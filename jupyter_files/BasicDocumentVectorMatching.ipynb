{
 "cells": [
  {
   "cell_type": "markdown",
   "metadata": {},
   "source": [
    "## INET4031 Introduction to Systems\n",
    "\n",
    "### Introduction to Document Search Engines (how Google works)\n",
    "\n",
    "This Jupyter Notebook contains code that demonstrates the most basic functionality of a document search engine.\n",
    "\n",
    "It is intended as a simple introduction to the core concepts of a search engine:\n",
    "\n",
    "* Document Repository\n",
    "* Indexing Documents\n",
    "* Vector Mathematics\n",
    "* Matching Search Terms to Document Matches\n",
    "\n",
    "This Notebook contains functionality and concepts that will required for each Student's Final Project in INET4031.\n"
   ]
  },
  {
   "cell_type": "markdown",
   "metadata": {},
   "source": [
    "### Import the NumpPy Module\n",
    "\n",
    "Click here to learn more about NumPy **[NumPy Link](https://numpy.org)**"
   ]
  },
  {
   "cell_type": "code",
   "execution_count": 3,
   "metadata": {},
   "outputs": [],
   "source": [
    "# Install the numpy (num-pie) module on your computer\n",
    "#\n",
    "# The numpy module adds advanced mathematics capabilities to the base install of Python\n",
    "#\n",
    "# Use the \"pip\" installer:\n",
    "# Windows: pip install numpy\n",
    "# macOS: pip3 install numpy\n",
    "\n",
    "import numpy"
   ]
  },
  {
   "cell_type": "markdown",
   "metadata": {},
   "source": [
    "### File and Text Processing\n",
    "\n",
    "In this section of code the sample documents in the document \"repository\" are opened.  The contents of the files accessible via the variables file1, file2, file3.\n",
    "\n",
    "Basic text processing operations are done to prep the text inside each of the documents.  Here the only operation is to strip \"newline\" characters from the documents.  When indexing documents so that they can be searched, special characters such as newline characters are not necessary and should be removed.\n"
   ]
  },
  {
   "cell_type": "code",
   "execution_count": 4,
   "metadata": {},
   "outputs": [],
   "source": [
    "#open up our \"document library\" of three documents\n",
    "file1 = open(\"document1.txt\", \"r\")\n",
    "file2 = open(\"document2.txt\", \"r\")\n",
    "file3 = open(\"document3.txt\", \"r\")\n",
    "\n",
    "#prompt to enter some search terms\n",
    "query = input(\"Please enter your terms: \")\n",
    "terms1 = [line.rstrip('\\n') for line in file1 ]\n",
    "terms2 = [line.rstrip('\\n') for line in file2 ]\n",
    "terms3 = [line.rstrip('\\n') for line in file3 ]\n",
    "\n",
    "#close the files when done\n",
    "file1.close()\n",
    "file2.close()\n",
    "file3.close()"
   ]
  },
  {
   "cell_type": "code",
   "execution_count": 5,
   "metadata": {},
   "outputs": [
    {
     "name": "stdout",
     "output_type": "stream",
     "text": [
      "['quickly jumping daft zebras vex']\n",
      "['Waltz nymph for quick jigs vex Bud']\n",
      "['How quickly daft jumping zebras vex']\n",
      "waltz nymph\n"
     ]
    }
   ],
   "source": [
    "#not much here so let's print everything out so we can see it at this point\n",
    "print(terms1)\n",
    "print(terms2)\n",
    "print(terms3)\n",
    "print(query)"
   ]
  },
  {
   "cell_type": "code",
   "execution_count": 6,
   "metadata": {},
   "outputs": [],
   "source": [
    "# case doesn't matter here, so convert everything to lowercase.\n",
    "terms1[0] = terms1[0].lower()\n",
    "terms2[0] = terms2[0].lower()\n",
    "terms3[0] = terms3[0].lower()"
   ]
  },
  {
   "cell_type": "code",
   "execution_count": 7,
   "metadata": {},
   "outputs": [],
   "source": [
    "#split docs and the query into lists (will split on space by default)\n",
    "terms1 = terms1[0].split()\n",
    "terms2 = terms2[0].split()\n",
    "terms3 = terms3[0].split()\n",
    "query = query.split()"
   ]
  },
  {
   "cell_type": "code",
   "execution_count": 8,
   "metadata": {},
   "outputs": [
    {
     "name": "stdout",
     "output_type": "stream",
     "text": [
      "['quickly', 'jumping', 'daft', 'zebras', 'vex']\n",
      "['waltz', 'nymph', 'for', 'quick', 'jigs', 'vex', 'bud']\n",
      "['how', 'quickly', 'daft', 'jumping', 'zebras', 'vex']\n",
      "['waltz', 'nymph']\n"
     ]
    }
   ],
   "source": [
    "#print the lists out to see what we got\n",
    "print(terms1)\n",
    "print(terms2)\n",
    "print(terms3)\n",
    "print(query)"
   ]
  },
  {
   "cell_type": "code",
   "execution_count": 9,
   "metadata": {},
   "outputs": [],
   "source": [
    "#establish our vocabulary, create a set of all the unique terms\n",
    "#start by taking the list of terms and creating sets\n",
    "#having Python turn lists into sets is an easy way to get rid of duplicates...unsure of performance.\n",
    "vocab1 = set(terms1)\n",
    "vocab2 = set(terms2)\n",
    "vocab3 = set(terms3)\n",
    "vocab4 = set(query)"
   ]
  },
  {
   "cell_type": "code",
   "execution_count": 10,
   "metadata": {},
   "outputs": [],
   "source": [
    "#union them all together\n",
    "vocab1 = vocab1.union(vocab2)\n",
    "vocab = vocab1.union(vocab3)\n",
    "vocab = vocab.union(vocab4)"
   ]
  },
  {
   "cell_type": "code",
   "execution_count": 11,
   "metadata": {},
   "outputs": [],
   "source": [
    "#turn the vocab set back into a list\n",
    "vocab = list(vocab)"
   ]
  },
  {
   "cell_type": "code",
   "execution_count": 12,
   "metadata": {},
   "outputs": [
    {
     "name": "stdout",
     "output_type": "stream",
     "text": [
      "['nymph', 'waltz', 'jigs', 'quick', 'bud', 'vex', 'jumping', 'daft', 'quickly', 'how', 'for', 'zebras']\n"
     ]
    }
   ],
   "source": [
    "#print our vocabulary out\n",
    "print(vocab)"
   ]
  },
  {
   "cell_type": "code",
   "execution_count": 13,
   "metadata": {},
   "outputs": [],
   "source": [
    "#create numpy arrays to create the vectors from the docs, query, and vocab.  put zeroes in by default\n",
    "v1 = numpy.zeros(len(vocab), dtype=float)\n",
    "v2 = numpy.zeros(len(vocab), dtype=float)\n",
    "v3 = numpy.zeros(len(vocab), dtype=float)\n",
    "#variable s used below since this is the \"search\" aka query\n",
    "s  = numpy.zeros(len(vocab), dtype=float)"
   ]
  },
  {
   "cell_type": "code",
   "execution_count": 14,
   "metadata": {},
   "outputs": [
    {
     "name": "stdout",
     "output_type": "stream",
     "text": [
      "[0. 0. 0. 0. 0. 0. 0. 0. 0. 0. 0. 0.]\n",
      "[0. 0. 0. 0. 0. 0. 0. 0. 0. 0. 0. 0.]\n",
      "[0. 0. 0. 0. 0. 0. 0. 0. 0. 0. 0. 0.]\n",
      "[0. 0. 0. 0. 0. 0. 0. 0. 0. 0. 0. 0.]\n"
     ]
    }
   ],
   "source": [
    "#print them out.  so now we have multidimensional vectors (aka an array)\n",
    "#in the next step, if a doc/query has the term, we will set to 1, if it doesn't not, will set to 0\n",
    "print(v1)\n",
    "print(v2)\n",
    "print(v3)\n",
    "print(s)"
   ]
  },
  {
   "cell_type": "code",
   "execution_count": 15,
   "metadata": {},
   "outputs": [],
   "source": [
    "#create vector for terms in doc 1\n",
    "for w in terms1:\n",
    "    i = vocab.index(w)\n",
    "    v1[i] += 1"
   ]
  },
  {
   "cell_type": "code",
   "execution_count": 16,
   "metadata": {},
   "outputs": [
    {
     "name": "stdout",
     "output_type": "stream",
     "text": [
      "[0. 0. 0. 0. 0. 1. 1. 1. 1. 0. 0. 1.]\n"
     ]
    }
   ],
   "source": [
    "#print it\n",
    "print(v1)"
   ]
  },
  {
   "cell_type": "code",
   "execution_count": 17,
   "metadata": {},
   "outputs": [],
   "source": [
    "#create vector for terms in doc 2\n",
    "for w in terms2:\n",
    "    i = vocab.index(w)\n",
    "    v2[i] += 1"
   ]
  },
  {
   "cell_type": "code",
   "execution_count": 18,
   "metadata": {},
   "outputs": [
    {
     "name": "stdout",
     "output_type": "stream",
     "text": [
      "[1. 1. 1. 1. 1. 1. 0. 0. 0. 0. 1. 0.]\n"
     ]
    }
   ],
   "source": [
    "print(v2)"
   ]
  },
  {
   "cell_type": "code",
   "execution_count": 19,
   "metadata": {},
   "outputs": [],
   "source": [
    "#create vector for terms in doc 1\n",
    "for w in terms3:\n",
    "    i = vocab.index(w)\n",
    "    v3[i] += 1"
   ]
  },
  {
   "cell_type": "code",
   "execution_count": 20,
   "metadata": {},
   "outputs": [
    {
     "name": "stdout",
     "output_type": "stream",
     "text": [
      "[0. 0. 0. 0. 0. 1. 1. 1. 1. 1. 0. 1.]\n"
     ]
    }
   ],
   "source": [
    "print(v3)"
   ]
  },
  {
   "cell_type": "code",
   "execution_count": 21,
   "metadata": {},
   "outputs": [],
   "source": [
    "#create vector for terms in the query\n",
    "for w in query:\n",
    "    i = vocab.index(w)\n",
    "    s[i] += 1"
   ]
  },
  {
   "cell_type": "code",
   "execution_count": 22,
   "metadata": {},
   "outputs": [
    {
     "name": "stdout",
     "output_type": "stream",
     "text": [
      "[1. 1. 0. 0. 0. 0. 0. 0. 0. 0. 0. 0.]\n"
     ]
    }
   ],
   "source": [
    "print(s)"
   ]
  },
  {
   "cell_type": "code",
   "execution_count": 23,
   "metadata": {},
   "outputs": [],
   "source": [
    "#compute the cosine between the query (s) and doc 1\n",
    "cos = numpy.dot(s, v1) / (numpy.sqrt(numpy.dot(s,s))*numpy.sqrt(numpy.dot(v1,v1)))"
   ]
  },
  {
   "cell_type": "code",
   "execution_count": 24,
   "metadata": {},
   "outputs": [
    {
     "name": "stdout",
     "output_type": "stream",
     "text": [
      "0.0\n"
     ]
    }
   ],
   "source": [
    "print(cos)"
   ]
  },
  {
   "cell_type": "code",
   "execution_count": 25,
   "metadata": {},
   "outputs": [],
   "source": [
    "#compute the cosine between the query (s) and doc 2\n",
    "cos = numpy.dot(s, v2) / (numpy.sqrt(numpy.dot(s,s))*numpy.sqrt(numpy.dot(v2,v2)))"
   ]
  },
  {
   "cell_type": "code",
   "execution_count": 26,
   "metadata": {},
   "outputs": [
    {
     "name": "stdout",
     "output_type": "stream",
     "text": [
      "0.5345224838248487\n"
     ]
    }
   ],
   "source": [
    "print(cos)"
   ]
  },
  {
   "cell_type": "code",
   "execution_count": 27,
   "metadata": {},
   "outputs": [],
   "source": [
    "#compute the cosine between the query (s) and doc 3\n",
    "cos = numpy.dot(s, v3) / (numpy.sqrt(numpy.dot(s,s))*numpy.sqrt(numpy.dot(v3,v3)))"
   ]
  },
  {
   "cell_type": "code",
   "execution_count": 28,
   "metadata": {},
   "outputs": [
    {
     "name": "stdout",
     "output_type": "stream",
     "text": [
      "0.0\n"
     ]
    }
   ],
   "source": [
    "print(cos)"
   ]
  },
  {
   "cell_type": "code",
   "execution_count": null,
   "metadata": {},
   "outputs": [],
   "source": []
  },
  {
   "cell_type": "code",
   "execution_count": null,
   "metadata": {},
   "outputs": [],
   "source": []
  }
 ],
 "metadata": {
  "kernelspec": {
   "display_name": "Python 3 (ipykernel)",
   "language": "python",
   "name": "python3"
  },
  "language_info": {
   "codemirror_mode": {
    "name": "ipython",
    "version": 3
   },
   "file_extension": ".py",
   "mimetype": "text/x-python",
   "name": "python",
   "nbconvert_exporter": "python",
   "pygments_lexer": "ipython3",
   "version": "3.12.3"
  }
 },
 "nbformat": 4,
 "nbformat_minor": 4
}
